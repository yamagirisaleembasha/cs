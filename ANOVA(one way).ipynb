{
 "cells": [
  {
   "cell_type": "code",
   "execution_count": 34,
   "id": "de08ac92",
   "metadata": {},
   "outputs": [],
   "source": [
    "import scipy.stats as s"
   ]
  },
  {
   "cell_type": "code",
   "execution_count": 35,
   "id": "e5a3a723",
   "metadata": {},
   "outputs": [
    {
     "name": "stdout",
     "output_type": "stream",
     "text": [
      "enter level of significance:0.05\n",
      "enter number of treatments:3\n",
      "enter the elements of treatment 1 :13 10 8 11 8\n",
      "enter the elements of treatment 2 :13 11 14 14\n",
      "enter the elements of treatment 3 :4 1 3 4 2 4\n"
     ]
    }
   ],
   "source": [
    "los=float(input('enter level of significance:'))\n",
    "K=int(input('enter number of treatments:'))\n",
    "d={}\n",
    "for i in range(K):\n",
    "    print('enter the elements of treatment',i+1,':',end='')\n",
    "    t=tuple(map(int,input().split()))\n",
    "    d[t]=len(t)"
   ]
  },
  {
   "cell_type": "code",
   "execution_count": 36,
   "id": "e250b7d9",
   "metadata": {},
   "outputs": [
    {
     "name": "stdout",
     "output_type": "stream",
     "text": [
      "reject H0\n"
     ]
    }
   ],
   "source": [
    "ti=[]\n",
    "tisquare_by_ni=[]\n",
    "j=0\n",
    "RSS=0\n",
    "N=0\n",
    "for i in d.keys():\n",
    "    ti.append(sum(i))\n",
    "    tisquare_by_ni.append(ti[j]**2/len(i))\n",
    "    j+=1\n",
    "    N+=d[i]\n",
    "    for k in i:\n",
    "        RSS+=k**2\n",
    "G=sum(ti)\n",
    "sum_of_tisquare_by_ni=sum(tisquare_by_ni)\n",
    "CF=G**2/N\n",
    "st_square=RSS-CF\n",
    "str_square=sum_of_tisquare_by_ni-CF\n",
    "se_square=st_square-str_square\n",
    "str_square/=(K-1)\n",
    "se_square/=(N-K)\n",
    "fcal=str_square/se_square\n",
    "ftab=s.f.ppf(1-los,K-1,N-K)\n",
    "if ftab>fcal:\n",
    "    print('accept H0')\n",
    "else:\n",
    "    print('reject H0')"
   ]
  }
 ],
 "metadata": {
  "kernelspec": {
   "display_name": "Python 3 (ipykernel)",
   "language": "python",
   "name": "python3"
  },
  "language_info": {
   "codemirror_mode": {
    "name": "ipython",
    "version": 3
   },
   "file_extension": ".py",
   "mimetype": "text/x-python",
   "name": "python",
   "nbconvert_exporter": "python",
   "pygments_lexer": "ipython3",
   "version": "3.9.12"
  }
 },
 "nbformat": 4,
 "nbformat_minor": 5
}
