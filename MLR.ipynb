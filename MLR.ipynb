{
 "cells": [
  {
   "cell_type": "code",
   "execution_count": 87,
   "id": "a5766117",
   "metadata": {},
   "outputs": [],
   "source": [
    "import numpy as np\n",
    "import pandas as pd\n",
    "import math as m\n",
    "import scipy.stats as s"
   ]
  },
  {
   "cell_type": "markdown",
   "id": "154f9226",
   "metadata": {},
   "source": [
    "# Coefficient of Determination(R^2)"
   ]
  },
  {
   "cell_type": "code",
   "execution_count": 89,
   "id": "425c75d7",
   "metadata": {},
   "outputs": [
    {
     "name": "stdout",
     "output_type": "stream",
     "text": [
      "enter number of observations:9\n",
      "enter number of independent variables:3\n",
      "enter y values:167.1 174.4 160.8 162 140.8 174.6 163.7 174.5 185.7\n",
      "enter x1 values:42.2 48.6 42.6 39 34.7 44.5 39.1 40.1 45.9\n",
      "enter x2 values:11.2 10.6 10.6 10.4 9.3 10.8 10.7 10 12\n",
      "enter x3 values:31.9 13.2 28.7 26.1 30.1 8.5 24.3 18.6 20.4\n"
     ]
    }
   ],
   "source": [
    "n=int(input(\"enter number of observations:\"))\n",
    "p=int(input(\"enter number of independent variables:\"))\n",
    "yinp=list(map(float,input(\"enter y values:\").split()))\n",
    "x={}\n",
    "x[0] = [1 for i in range(n)]\n",
    "for i in range(1,p+1):\n",
    "    x[i]=(list(map(float,input(\"enter x{} values:\".format(i)).split())))\n",
    "p+=1"
   ]
  },
  {
   "cell_type": "code",
   "execution_count": 90,
   "id": "d8f218d8",
   "metadata": {},
   "outputs": [],
   "source": [
    "x=np.array(pd.DataFrame(x))\n",
    "yin=np.array(pd.DataFrame(yinp))\n",
    "beta=np.dot((np.linalg.inv(np.dot(x.transpose(),x))),(np.dot(x.transpose(),yin)))"
   ]
  },
  {
   "cell_type": "code",
   "execution_count": 94,
   "id": "5e0155ff",
   "metadata": {},
   "outputs": [
    {
     "name": "stdout",
     "output_type": "stream",
     "text": [
      "y=60.0143+(0.2398)x1+(10.7184)x2)x1+(-0.7510)x3\n"
     ]
    }
   ],
   "source": [
    "print('y='+f'{beta[0][0]:.4f}'+'+('+f'{beta[1][0]:.4f}'+')x1+('+f'{beta[2][0]:.4f}'+')x2')"
   ]
  },
  {
   "cell_type": "code",
   "execution_count": 95,
   "id": "01c1db15",
   "metadata": {},
   "outputs": [
    {
     "name": "stdout",
     "output_type": "stream",
     "text": [
      "   observed(y)   fitted(y)  Error(y-ycap)\n",
      "0        167.1  190.181079     -23.081079\n",
      "1        174.4  185.285017     -10.885017\n",
      "2        160.8  183.845996     -23.045996\n",
      "3        162.0  180.838911     -18.838911\n",
      "4        140.8  168.017414     -27.217414\n",
      "5        174.6  186.445359     -11.845359\n",
      "6        163.7  184.078404     -20.378404\n",
      "7        174.5  176.815386      -2.315386\n",
      "8        185.7  199.643166     -13.943166\n"
     ]
    }
   ],
   "source": [
    "dataframe=pd.DataFrame()\n",
    "ycap=[(beta[0][0]+(beta[1][0]*x[i][1])+(beta[2][0]*x[i][2])) for i in range(n)]\n",
    "error=np.array([yin[i]-ycap[i] for i in range(n)])\n",
    "dataframe['observed(y)']=yinp\n",
    "dataframe['fitted(y)']=ycap\n",
    "dataframe['Error(y-ycap)']=error\n",
    "print(dataframe)\n",
    "sse=sum(error**2)[0]\n",
    "ybar=sum(yinp)/n\n",
    "sst=sum([(yinp[i]-ybar)**2 for i in range(n)])\n",
    "ssr=sst-sse"
   ]
  },
  {
   "cell_type": "code",
   "execution_count": 96,
   "id": "8da8b0bd",
   "metadata": {},
   "outputs": [
    {
     "name": "stdout",
     "output_type": "stream",
     "text": [
      "reject model\n"
     ]
    }
   ],
   "source": [
    "r_square=round((ssr/sst),4)\n",
    "if r_square>0.9000:\n",
    "    print(\"accept model\")\n",
    "else:\n",
    "    print(\"reject model\")"
   ]
  },
  {
   "cell_type": "markdown",
   "id": "3137a50e",
   "metadata": {},
   "source": [
    "# ANOVA test"
   ]
  },
  {
   "cell_type": "code",
   "execution_count": 106,
   "id": "f107e2eb",
   "metadata": {},
   "outputs": [
    {
     "name": "stdout",
     "output_type": "stream",
     "text": [
      "enter level of significance:0.05\n"
     ]
    }
   ],
   "source": [
    "los=float(input('enter level of significance:'))\n",
    "sor=['regression',\"error\",'total']\n",
    "ss=[ssr,sse,sst]\n",
    "dof=[p-1,n-p,n-1]\n",
    "ms=[ssr/(p-1),sse/(n-p),'-']\n",
    "v=[' ','f='+str(ms[0]/ms[1]),'-']\n",
    "anovadata=pd.DataFrame()\n",
    "anovadata['source of variation']=sor\n",
    "anovadata['sum of squares']=ss\n",
    "anovadata['degree of freedom']=dof\n",
    "anovadata['mean sum of squares']=ms\n",
    "anovadata['variance ratio']=v"
   ]
  },
  {
   "cell_type": "code",
   "execution_count": 107,
   "id": "11ba773b",
   "metadata": {},
   "outputs": [
    {
     "data": {
      "text/html": [
       "<div>\n",
       "<style scoped>\n",
       "    .dataframe tbody tr th:only-of-type {\n",
       "        vertical-align: middle;\n",
       "    }\n",
       "\n",
       "    .dataframe tbody tr th {\n",
       "        vertical-align: top;\n",
       "    }\n",
       "\n",
       "    .dataframe thead th {\n",
       "        text-align: right;\n",
       "    }\n",
       "</style>\n",
       "<table border=\"1\" class=\"dataframe\">\n",
       "  <thead>\n",
       "    <tr style=\"text-align: right;\">\n",
       "      <th></th>\n",
       "      <th>source of variation</th>\n",
       "      <th>sum of squares</th>\n",
       "      <th>degree of freedom</th>\n",
       "      <th>mean sum of squares</th>\n",
       "      <th>variance ratio</th>\n",
       "    </tr>\n",
       "  </thead>\n",
       "  <tbody>\n",
       "    <tr>\n",
       "      <th>0</th>\n",
       "      <td>regression</td>\n",
       "      <td>-1754.194642</td>\n",
       "      <td>3</td>\n",
       "      <td>-584.731547</td>\n",
       "      <td>-1.037534</td>\n",
       "    </tr>\n",
       "    <tr>\n",
       "      <th>1</th>\n",
       "      <td>error</td>\n",
       "      <td>3033.394642</td>\n",
       "      <td>5</td>\n",
       "      <td>606.678928</td>\n",
       "      <td>-1.037534</td>\n",
       "    </tr>\n",
       "    <tr>\n",
       "      <th>2</th>\n",
       "      <td>total</td>\n",
       "      <td>1279.200000</td>\n",
       "      <td>8</td>\n",
       "      <td>-</td>\n",
       "      <td>-1.037534</td>\n",
       "    </tr>\n",
       "  </tbody>\n",
       "</table>\n",
       "</div>"
      ],
      "text/plain": [
       "  source of variation  sum of squares  degree of freedom mean sum of squares  \\\n",
       "0          regression    -1754.194642                  3         -584.731547   \n",
       "1               error     3033.394642                  5          606.678928   \n",
       "2               total     1279.200000                  8                   -   \n",
       "\n",
       "   variance ratio  \n",
       "0       -1.037534  \n",
       "1       -1.037534  \n",
       "2       -1.037534  "
      ]
     },
     "execution_count": 107,
     "metadata": {},
     "output_type": "execute_result"
    }
   ],
   "source": [
    "anovadata"
   ]
  },
  {
   "cell_type": "code",
   "execution_count": 99,
   "id": "a6c775ad",
   "metadata": {},
   "outputs": [
    {
     "name": "stdout",
     "output_type": "stream",
     "text": [
      "accept h0\n"
     ]
    }
   ],
   "source": [
    "ftab=s.f.ppf(1-los,p-1,n-p)\n",
    "if (float(v[1][2:]))>ftab:\n",
    "    print('reject h0')\n",
    "else:\n",
    "    print('accept h0')"
   ]
  },
  {
   "cell_type": "markdown",
   "id": "0fe6bdb6",
   "metadata": {},
   "source": [
    "# Individual parameters"
   ]
  },
  {
   "cell_type": "code",
   "execution_count": 86,
   "id": "b1e80e0b",
   "metadata": {},
   "outputs": [
    {
     "name": "stdout",
     "output_type": "stream",
     "text": [
      "parameter table\n",
      "  predictor  coefficient  standard error  t=beat[i]/se[i]\n",
      "0     beta0    10.442029        0.381761        27.352269\n",
      "1     beta1     0.579710        0.456292         1.270482\n",
      "2     beta2     2.414855        0.481274         5.017629\n",
      "beta0 i.e.,10.442028985507246 contributing to the model\n",
      "beta1 i.e.,0.579710144927536 not contributing to the model\n",
      "beta2 i.e.,2.414855072463768 contributing to the model\n"
     ]
    }
   ],
   "source": [
    "mse_square=sse/(n-p)\n",
    "se=[m.sqrt(mse_square*(np.linalg.inv(np.dot(x.transpose(),x)))[i][i]) for i in range(p)]\n",
    "t=[beta[i][0]/se[i] for i in range(p)]\n",
    "print('parameter table')\n",
    "paratab=pd.DataFrame()\n",
    "paratab['predictor']=['beta0','beta1','beta2']\n",
    "paratab['coefficient']=[beta[i][0] for i in range(p)]\n",
    "paratab['standard error']=se\n",
    "paratab['t=beat[i]/se[i]']=t\n",
    "print(paratab)\n",
    "ttab=s.t.ppf(1-(los/2), n-p)\n",
    "for i in range(p):\n",
    "    if abs(t[i])>ttab:\n",
    "        print('beta'+str(i)+' i.e.,'+str(beta[i][0])+' contributing to the model')\n",
    "    else:\n",
    "        print('beta'+str(i)+' i.e.,'+str(beta[i][0])+' not contributing to the model')"
   ]
  }
 ],
 "metadata": {
  "kernelspec": {
   "display_name": "Python 3 (ipykernel)",
   "language": "python",
   "name": "python3"
  },
  "language_info": {
   "codemirror_mode": {
    "name": "ipython",
    "version": 3
   },
   "file_extension": ".py",
   "mimetype": "text/x-python",
   "name": "python",
   "nbconvert_exporter": "python",
   "pygments_lexer": "ipython3",
   "version": "3.9.12"
  }
 },
 "nbformat": 4,
 "nbformat_minor": 5
}
