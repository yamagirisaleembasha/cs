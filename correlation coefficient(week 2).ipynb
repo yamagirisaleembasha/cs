{
 "cells": [
  {
   "cell_type": "code",
   "execution_count": 1,
   "metadata": {},
   "outputs": [],
   "source": [
    "import numpy as np\n",
    "import statistics as st\n",
    "import math"
   ]
  },
  {
   "cell_type": "code",
   "execution_count": 2,
   "metadata": {},
   "outputs": [
    {
     "name": "stdout",
     "output_type": "stream",
     "text": [
      "enter x values:3 7 4 2 0 4 1 2\n",
      "enter y values:11 18 9 4 7 6 3 8\n"
     ]
    }
   ],
   "source": [
    "x_input=list(map(int,input(\"enter x values:\").split()))\n",
    "y_input=list(map(int,input(\"enter y values:\").split()))"
   ]
  },
  {
   "cell_type": "code",
   "execution_count": 3,
   "metadata": {},
   "outputs": [
    {
     "name": "stdout",
     "output_type": "stream",
     "text": [
      "[3 7 4 2 0 4 1 2]\n",
      "[11 18  9  4  7  6  3  8]\n"
     ]
    }
   ],
   "source": [
    "x=np.array(x_input)\n",
    "y=np.array(y_input)\n",
    "print(x)\n",
    "print(y)"
   ]
  },
  {
   "cell_type": "code",
   "execution_count": 4,
   "metadata": {},
   "outputs": [],
   "source": [
    "xsum=sum(x)\n",
    "ysum=sum(y)\n",
    "xy=x*y\n",
    "xysum=sum(xy)\n",
    "xsquare=x**2\n",
    "ysquare=y**2\n",
    "xsquaresum=sum(xsquare)\n",
    "ysquaresum=sum(ysquare)\n",
    "xbar=st.mean(x_input)\n",
    "ybar=st.mean(y_input)"
   ]
  },
  {
   "cell_type": "code",
   "execution_count": 5,
   "metadata": {},
   "outputs": [],
   "source": [
    "cov_xy=(xysum/np.size(x))-(xbar*ybar)\n"
   ]
  },
  {
   "cell_type": "code",
   "execution_count": 6,
   "metadata": {},
   "outputs": [],
   "source": [
    "sigma_x=math.sqrt((xsquaresum/np.size(x))-(xbar**2))\n",
    "sigma_y=math.sqrt((ysquaresum/np.size(y))-(ybar**2))"
   ]
  },
  {
   "cell_type": "code",
   "execution_count": 7,
   "metadata": {},
   "outputs": [],
   "source": [
    "r=round(cov_xy/(sigma_x*sigma_y),4)"
   ]
  },
  {
   "cell_type": "code",
   "execution_count": 8,
   "metadata": {},
   "outputs": [
    {
     "name": "stdout",
     "output_type": "stream",
     "text": [
      "the correlation coefficient  of given data is: 0.7867\n"
     ]
    }
   ],
   "source": [
    "print('the correlation coefficient  of given data is:',r)"
   ]
  },
  {
   "cell_type": "code",
   "execution_count": 11,
   "metadata": {},
   "outputs": [
    {
     "name": "stdout",
     "output_type": "stream",
     "text": [
      "the correlation coefficient  of given data is: 0.7867\n"
     ]
    }
   ],
   "source": [
    "r_builtin=np.corrcoef(x, y)\n",
    "print('the correlation coefficient  of given data is:',round(r_builtin[1,0],4))"
   ]
  }
 ],
 "metadata": {
  "kernelspec": {
   "display_name": "Python 3",
   "language": "python",
   "name": "python3"
  },
  "language_info": {
   "codemirror_mode": {
    "name": "ipython",
    "version": 3
   },
   "file_extension": ".py",
   "mimetype": "text/x-python",
   "name": "python",
   "nbconvert_exporter": "python",
   "pygments_lexer": "ipython3",
   "version": "3.8.5"
  }
 },
 "nbformat": 4,
 "nbformat_minor": 4
}
