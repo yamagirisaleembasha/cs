{
 "cells": [
  {
   "cell_type": "markdown",
   "id": "27eb0d9f",
   "metadata": {},
   "source": [
    "linear regression"
   ]
  },
  {
   "cell_type": "code",
   "execution_count": 28,
   "id": "85fce6eb",
   "metadata": {},
   "outputs": [],
   "source": [
    "import pandas as pd\n",
    "import numpy as np\n",
    "import matplotlib as plt"
   ]
  },
  {
   "cell_type": "code",
   "execution_count": 45,
   "id": "f715a1ec",
   "metadata": {},
   "outputs": [
    {
     "name": "stdout",
     "output_type": "stream",
     "text": [
      "   x    y    xy  xsquare\n",
      "0  1  2.4   2.4        1\n",
      "1  2  3.0   6.0        4\n",
      "2  3  3.6  10.8        9\n",
      "3  4  4.0  16.0       16\n",
      "4  6  5.0  30.0       36\n",
      "5  8  6.0  48.0       64\n",
      "0.5059\n",
      "1.9764\n"
     ]
    }
   ],
   "source": [
    "x=[1,2,3,4,6,8]\n",
    "y=[2.4,3,3.6,4,5,6]\n",
    "xy=[]\n",
    "xsquare=[]\n",
    "n=len(x)\n",
    "for i in range(len(x)):\n",
    "    xy.append(x[i]*y[i])\n",
    "    xsquare.append(x[i]**2)\n",
    "sumx=sum(x)\n",
    "sumy=sum(y)\n",
    "sumxy=sum(xy)\n",
    "sumxsquare=sum(xsquare)\n",
    "dict={'x':x,'y':y,'xy':xy,'xsquare':xsquare}\n",
    "tab=pd.DataFrame(dict)\n",
    "print(tab)\n",
    "y_result=[]\n",
    "m=round((((n*sumxy)-(sumx*sumy))/((n*sumxsquare)-(sumx)**2)),4)\n",
    "c=round(((sumy-(m*sumx))/n),4)\n",
    "print(m)\n",
    "print(c)\n",
    "for i in range(len(x)):\n",
    "    y_result.append(m*x[i]+c)"
   ]
  }
 ],
 "metadata": {
  "kernelspec": {
   "display_name": "Python 3 (ipykernel)",
   "language": "python",
   "name": "python3"
  },
  "language_info": {
   "codemirror_mode": {
    "name": "ipython",
    "version": 3
   },
   "file_extension": ".py",
   "mimetype": "text/x-python",
   "name": "python",
   "nbconvert_exporter": "python",
   "pygments_lexer": "ipython3",
   "version": "3.9.7"
  }
 },
 "nbformat": 4,
 "nbformat_minor": 5
}
