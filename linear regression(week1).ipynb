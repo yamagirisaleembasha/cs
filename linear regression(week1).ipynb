{
 "cells": [
  {
   "cell_type": "markdown",
   "id": "27eb0d9f",
   "metadata": {},
   "source": [
    "linear regression"
   ]
  },
  {
   "cell_type": "code",
   "execution_count": 1,
   "id": "85fce6eb",
   "metadata": {},
   "outputs": [],
   "source": [
    "import pandas as pd\n",
    "import numpy as np\n",
    "import matplotlib.pyplot as plt"
   ]
  },
  {
   "cell_type": "code",
   "execution_count": 2,
   "id": "f715a1ec",
   "metadata": {},
   "outputs": [],
   "source": [
    "x=[1,2,3,4,6,8]\n",
    "y=[2.4,3,3.6,4,5,6]"
   ]
  },
  {
   "cell_type": "code",
   "execution_count": 3,
   "id": "fd07df3c",
   "metadata": {},
   "outputs": [],
   "source": [
    "x=np.array(x)\n",
    "y=np.array(y)\n",
    "xy=x*y\n",
    "xsquare=x**2"
   ]
  },
  {
   "cell_type": "code",
   "execution_count": 4,
   "id": "3c1c14d5",
   "metadata": {},
   "outputs": [],
   "source": [
    "ysum=sum(y)\n",
    "xsum=sum(x)\n",
    "xysum=sum(xy)\n",
    "xsquaresum=sum(xsquare)\n",
    "n=x.size"
   ]
  },
  {
   "cell_type": "code",
   "execution_count": 5,
   "id": "e38bb6e2",
   "metadata": {},
   "outputs": [],
   "source": [
    "slope=round(((n*xysum)-(xsum*ysum))/((n*xsquaresum)-(xsum**2)),4)\n",
    "y_intercept=round(((ysum)-(slope*xsum))/n,4)"
   ]
  },
  {
   "cell_type": "code",
   "execution_count": 6,
   "id": "5d22626c",
   "metadata": {},
   "outputs": [],
   "source": [
    "ycal=[slope*i+y_intercept for i in x]\n",
    "ycal=np.array(ycal)"
   ]
  },
  {
   "cell_type": "code",
   "execution_count": 7,
   "id": "519d305e",
   "metadata": {},
   "outputs": [
    {
     "name": "stdout",
     "output_type": "stream",
     "text": [
      "[2.4 3.  3.6 4.  5.  6. ]\n",
      "[2.4823 2.9882 3.4941 4.     5.0118 6.0236]\n"
     ]
    }
   ],
   "source": [
    "print(y)\n",
    "print(ycal)"
   ]
  },
  {
   "cell_type": "code",
   "execution_count": 8,
   "id": "7d26820e",
   "metadata": {},
   "outputs": [
    {
     "data": {
      "text/plain": [
       "<function matplotlib.pyplot.show(close=None, block=None)>"
      ]
     },
     "execution_count": 8,
     "metadata": {},
     "output_type": "execute_result"
    },
    {
     "data": {
      "image/png": "[encoded data removed]",
      "text/plain": [
       "<Figure size 432x288 with 1 Axes>"
      ]
     },
     "metadata": {
      "needs_background": "light"
     },
     "output_type": "display_data"
    }
   ],
   "source": [
    "plt.plot(x,y,marker='o',c='g')\n",
    "plt.plot(x,ycal,marker='d',linestyle=\"--\",c='r')\n",
    "plt.show"
   ]
  }
 ],
 "metadata": {
  "kernelspec": {
   "display_name": "Python 3 (ipykernel)",
   "language": "python",
   "name": "python3"
  },
  "language_info": {
   "codemirror_mode": {
    "name": "ipython",
    "version": 3
   },
   "file_extension": ".py",
   "mimetype": "text/x-python",
   "name": "python",
   "nbconvert_exporter": "python",
   "pygments_lexer": "ipython3",
   "version": "3.9.7"
  }
 },
 "nbformat": 4,
 "nbformat_minor": 5
}
