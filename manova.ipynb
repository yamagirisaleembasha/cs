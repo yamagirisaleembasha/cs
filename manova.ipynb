{
 "cells": [
  {
   "cell_type": "code",
   "execution_count": 52,
   "id": "c13b888b",
   "metadata": {},
   "outputs": [],
   "source": [
    "import numpy as np\n",
    "from math import * \n",
    "from scipy import stats as s"
   ]
  },
  {
   "cell_type": "code",
   "execution_count": 53,
   "id": "3b9de5fa",
   "metadata": {},
   "outputs": [
    {
     "name": "stdout",
     "output_type": "stream",
     "text": [
      "now,enter the sub groups values of treatment1:\n",
      "enter values of sub group 1\n",
      "enter values of sub group 2\n",
      "enter values of sub group 3\n",
      "enter values of sub group 4\n",
      "enter values of sub group 5\n",
      "now,enter the sub groups values of treatment2:\n",
      "enter values of sub group 1\n",
      "enter values of sub group 2\n",
      "enter values of sub group 3\n",
      "now,enter the sub groups values of treatment3:\n",
      "enter values of sub group 1\n",
      "enter values of sub group 2\n",
      "enter values of sub group 3\n",
      "enter values of sub group 4\n"
     ]
    }
   ],
   "source": [
    "los=float(input('enter level of significance:'))\n",
    "n=int(input('enter number of treatments:'))\n",
    "d={}\n",
    "mean={}\n",
    "length=[]\n",
    "for i in range(n):\n",
    "    l=[]\n",
    "    a=int(input('enter number of sub groups in treatment{}:'.format(i+1)))\n",
    "    length.append(a)\n",
    "    print('now,enter the sub groups values of treatment{}:'.format(i+1))\n",
    "    for j in range(a):\n",
    "        print('enter values of sub group',j+1)\n",
    "        sub=list(map(int,input().split()))\n",
    "        l.append(sub)\n",
    "    d[i]=l"
   ]
  },
  {
   "cell_type": "code",
   "execution_count": 54,
   "id": "d66ffb1e",
   "metadata": {},
   "outputs": [],
   "source": [
    "for i in range(n):\n",
    "    ybar=[]\n",
    "    y1=y2=0\n",
    "    for j in range(length[i]):\n",
    "        y1+=d[i][j][0]\n",
    "        y2+=d[i][j][1]\n",
    "    ybar.append(y1/length[i])\n",
    "    ybar.append(y2/length[i])\n",
    "    mean[i]=ybar"
   ]
  },
  {
   "cell_type": "code",
   "execution_count": 55,
   "id": "af8cf687",
   "metadata": {},
   "outputs": [],
   "source": [
    "s0=s1=0\n",
    "y_bar=[]\n",
    "for i in (d.keys()):\n",
    "    for j in d[i]:\n",
    "        s0+=j[0]\n",
    "        s1+=j[1]\n",
    "y_bar.append(s0/sum(length))\n",
    "y_bar.append(s1/sum(length))"
   ]
  },
  {
   "cell_type": "code",
   "execution_count": 56,
   "id": "699b02f3",
   "metadata": {},
   "outputs": [],
   "source": [
    "sse1=sst1=sse2=sst2=ssexy=sstxy=0\n",
    "for i in (d.keys()):\n",
    "    for j in d[i]:\n",
    "        sse1+=((j[0]-mean[i][0])**2)\n",
    "        sst1+=((j[0]-y_bar[0])**2)\n",
    "        sse2+=((j[1]-mean[i][1])**2)\n",
    "        sst2+=((j[1]-y_bar[1])**2)\n",
    "        ssexy+=((j[0]*j[1])-(mean[i][0]*mean[i][1]))\n",
    "        sstxy+=((j[0]*j[1])-(y_bar[0]*y_bar[1]))\n",
    "ssr1=sst1-sse1\n",
    "ssr2=sst2-sse2\n",
    "ssrxy=sstxy-ssexy"
   ]
  },
  {
   "cell_type": "code",
   "execution_count": 57,
   "id": "e1279545",
   "metadata": {},
   "outputs": [
    {
     "name": "stdout",
     "output_type": "stream",
     "text": [
      "accept h0\n"
     ]
    }
   ],
   "source": [
    "B=np.array([ssr1,ssrxy,ssrxy,ssr2])\n",
    "B.resize(2,2)\n",
    "W=np.array([sse1,ssexy,ssexy,sse2])\n",
    "W.resize(2,2)\n",
    "T=np.array([sst1,sstxy,sstxy,sst2])\n",
    "T.resize(2,2)\n",
    "lambda_star=np.linalg.det(W)/np.linalg.det(T)\n",
    "fcal=((sum(length)-n-1)/(n-1))*(((1-sqrt(lambda_star))/sqrt(lambda_star)))\n",
    "ftab=s.f.ppf(1-los,(len(l[0])*(n-1)),(len(l[0])*(sum(length)-n-1)))\n",
    "if fcal>ftab:\n",
    "    print('reject h0')\n",
    "else:\n",
    "    print('accept h0')"
   ]
  }
 ],
 "metadata": {
  "kernelspec": {
   "display_name": "Python 3.9.12 ('newenvt')",
   "language": "python",
   "name": "python3"
  },
  "language_info": {
   "codemirror_mode": {
    "name": "ipython",
    "version": 3
   },
   "file_extension": ".py",
   "mimetype": "text/x-python",
   "name": "python",
   "nbconvert_exporter": "python",
   "pygments_lexer": "ipython3",
   "version": "3.9.12"
  },
  "vscode": {
   "interpreter": {
    "hash": "b57b11fd2199e3df3cf9969cbc290a71443d571a5987003f5cfdb381fe30abb5"
   }
  }
 },
 "nbformat": 4,
 "nbformat_minor": 5
}
