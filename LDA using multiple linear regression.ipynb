{
 "cells": [
  {
   "cell_type": "code",
   "execution_count": 1,
   "id": "f77af4ca",
   "metadata": {},
   "outputs": [],
   "source": [
    "import pandas as pd\n",
    "import numpy as np\n",
    "from scipy import stats as s \n",
    "import math as m"
   ]
  },
  {
   "cell_type": "code",
   "execution_count": 2,
   "id": "af09c07a",
   "metadata": {},
   "outputs": [
    {
     "name": "stdout",
     "output_type": "stream",
     "text": [
      "enter number of observations:10\n",
      "enter number of independent variables:2\n",
      "enter y values:1 1 1 1 1 0 0 0 0 0\n",
      "enter x1 values:1300 1260 1220 1180 1060 1140 1100 1020 980 940\n",
      "enter x2 values:2.7 3.7 2.9 2.5 3.9 2.1 3.5 3.3 2.3 3.1\n",
      "enter values to be classified:1000 2.9\n"
     ]
    }
   ],
   "source": [
    "n=int(input(\"enter number of observations:\"))\n",
    "p=int(input(\"enter number of independent variables:\"))\n",
    "yinp=list(map(float,input(\"enter y values:\").split()))\n",
    "x={}\n",
    "x[0] = [1 for i in range(n)]\n",
    "for i in range(1,p+1):\n",
    "    x[i]=(list(map(float,input(\"enter x{} values:\".format(i)).split())))\n",
    "cl=list(map(float,input('enter values to be classified:').split()))"
   ]
  },
  {
   "cell_type": "code",
   "execution_count": 3,
   "id": "4dcacf94",
   "metadata": {},
   "outputs": [],
   "source": [
    "x=np.array(pd.DataFrame(x))\n",
    "yin=np.array(pd.DataFrame(yinp))\n",
    "beta=np.dot((np.linalg.inv(np.dot(x.transpose(),x))),(np.dot(x.transpose(),yin)))"
   ]
  },
  {
   "cell_type": "code",
   "execution_count": 10,
   "id": "abf1af58",
   "metadata": {},
   "outputs": [
    {
     "name": "stdout",
     "output_type": "stream",
     "text": [
      "y=-3.8392+(0.0032)x1+(0.2395)x2\n"
     ]
    }
   ],
   "source": [
    "print('y='+f'{beta[0][0]:.4f}'+'+('+f'{beta[1][0]:.4f}'+')x1+('+f'{beta[2][0]:.4f}'+')x2')\n",
    "y=round(beta[0][0],4)+(round(beta[1][0],4)*cl[0])+(round(beta[2][0],4)*cl[1])"
   ]
  },
  {
   "cell_type": "code",
   "execution_count": 14,
   "id": "20429492",
   "metadata": {},
   "outputs": [
    {
     "name": "stdout",
     "output_type": "stream",
     "text": [
      "[1000.0, 2.9] classified to group with 0\n"
     ]
    }
   ],
   "source": [
    "y=round(y)\n",
    "if y==0:\n",
    "    print(cl,'classified to group with 0')\n",
    "else:\n",
    "    print(cl,'classified to group with 1')"
   ]
  }
 ],
 "metadata": {
  "kernelspec": {
   "display_name": "Python 3 (ipykernel)",
   "language": "python",
   "name": "python3"
  },
  "language_info": {
   "codemirror_mode": {
    "name": "ipython",
    "version": 3
   },
   "file_extension": ".py",
   "mimetype": "text/x-python",
   "name": "python",
   "nbconvert_exporter": "python",
   "pygments_lexer": "ipython3",
   "version": "3.9.7"
  }
 },
 "nbformat": 4,
 "nbformat_minor": 5
}
