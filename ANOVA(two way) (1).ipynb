{
 "cells": [
  {
   "cell_type": "code",
   "execution_count": 68,
   "id": "06b24f45",
   "metadata": {},
   "outputs": [],
   "source": [
    "import scipy.stats as sta"
   ]
  },
  {
   "cell_type": "code",
   "execution_count": 69,
   "id": "40c266f3",
   "metadata": {},
   "outputs": [
    {
     "name": "stdout",
     "output_type": "stream",
     "text": [
      "enter level of significance:0.01\n",
      "enter number of treatments:4\n",
      "enter number of blocks:3\n",
      "enter the elements of treatment 1 :45 43 51\n",
      "enter the elements of treatment 2 :47 46 52 \n",
      "enter the elements of treatment 3 :48 50 55\n",
      "enter the elements of treatment 4 :42 37 49 \n"
     ]
    }
   ],
   "source": [
    "los=float(input('enter level of significance:'))\n",
    "K=int(input('enter number of treatments:'))\n",
    "h=int(input('enter number of blocks:'))\n",
    "d={}\n",
    "for i in range(K):\n",
    "    print('enter the elements of treatment',i+1,':',end='')\n",
    "    t=tuple(map(int,input().split()))\n",
    "    d[t]=len(t)"
   ]
  },
  {
   "cell_type": "code",
   "execution_count": 70,
   "id": "b722e1c1",
   "metadata": {},
   "outputs": [],
   "source": [
    "ti=[]\n",
    "bj=[]\n",
    "ti_square=[]\n",
    "bj_square=[]\n",
    "RSS=0\n",
    "for i in d.keys():\n",
    "    ti.append(sum(i))\n",
    "    ti_square.append(sum(i)**2)\n",
    "for j in range(h):\n",
    "    s=0\n",
    "    for index in d.keys():\n",
    "        s+=index[j]\n",
    "        RSS+=index[j]**2\n",
    "    bj.append(s)\n",
    "    bj_square.append(s**2)\n",
    "G=sum(ti)\n",
    "ti_square_sum=sum(ti_square)\n",
    "bj_square_sum=sum(bj_square)"
   ]
  },
  {
   "cell_type": "code",
   "execution_count": 71,
   "id": "0a4f963b",
   "metadata": {},
   "outputs": [],
   "source": [
    "CF=G**2/(K*h)\n",
    "SST=RSS-CF\n",
    "SStr=(ti_square_sum/h)-CF\n",
    "SSb=(bj_square_sum/K)-CF\n",
    "SSe=SST-SStr-SSb"
   ]
  },
  {
   "cell_type": "code",
   "execution_count": 72,
   "id": "027ca86e",
   "metadata": {},
   "outputs": [],
   "source": [
    "str_square=SStr/(K-1)\n",
    "sb_square=SSb/(h-1)\n",
    "se_square=SSe/((K-1)*(h-1))"
   ]
  },
  {
   "cell_type": "code",
   "execution_count": 73,
   "id": "00f9590d",
   "metadata": {},
   "outputs": [
    {
     "name": "stdout",
     "output_type": "stream",
     "text": [
      "\n"
     ]
    }
   ],
   "source": [
    "ftr=str_square/se_square\n",
    "fb=sb_square/se_square\n",
    "ftr_tab=sta.f.ppf(1-los,K-1,((K-1)*(h-1)))\n",
    "fb_tab=sta.f.ppf(1-los,h-1,((K-1)*(h-1)))\n",
    "print()"
   ]
  },
  {
   "cell_type": "code",
   "execution_count": 74,
   "id": "2e6ccebb",
   "metadata": {},
   "outputs": [
    {
     "name": "stdout",
     "output_type": "stream",
     "text": [
      "inference related to treatments:\n",
      "\n",
      "reject h0(tr)\n",
      "\n",
      "inference related to blocks:\n",
      "\n",
      "reject h0(b)\n",
      "\n"
     ]
    }
   ],
   "source": [
    "print('inference related to treatments:')\n",
    "print()\n",
    "if ftr>ftr_tab:\n",
    "    print('reject h0(tr)')\n",
    "    print()\n",
    "else:\n",
    "    print('accept h0(tr)')\n",
    "    print()\n",
    "print('inference related to blocks:')\n",
    "print()\n",
    "if fb>fb_tab:\n",
    "    print('reject h0(b)')\n",
    "    print()\n",
    "else:\n",
    "    print('accept h0(b)')\n",
    "    print()"
   ]
  }
 ],
 "metadata": {
  "kernelspec": {
   "display_name": "Python 3 (ipykernel)",
   "language": "python",
   "name": "python3"
  },
  "language_info": {
   "codemirror_mode": {
    "name": "ipython",
    "version": 3
   },
   "file_extension": ".py",
   "mimetype": "text/x-python",
   "name": "python",
   "nbconvert_exporter": "python",
   "pygments_lexer": "ipython3",
   "version": "3.9.12"
  }
 },
 "nbformat": 4,
 "nbformat_minor": 5
}
