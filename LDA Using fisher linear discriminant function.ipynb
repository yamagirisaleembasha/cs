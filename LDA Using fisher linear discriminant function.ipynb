{
 "cells": [
  {
   "cell_type": "code",
   "execution_count": 51,
   "id": "6ad0a20a",
   "metadata": {},
   "outputs": [],
   "source": [
    "import pandas as pd\n",
    "import numpy as np\n",
    "from scipy import stats as s \n",
    "import math as m"
   ]
  },
  {
   "cell_type": "code",
   "execution_count": 53,
   "id": "4a291ca9",
   "metadata": {},
   "outputs": [
    {
     "name": "stdout",
     "output_type": "stream",
     "text": [
      "enter number of observations:6\n",
      "enter number of independent variables:2\n",
      "enter y values:1 1 1 2 2 2\n",
      "enter x1 values:3 2 4 6 5 4\n",
      "enter x2 values:7 4 7 9 7 8\n",
      "enter values to be classified:2 7\n"
     ]
    }
   ],
   "source": [
    "n=int(input(\"enter number of observations:\"))\n",
    "p=int(input(\"enter number of independent variables:\"))\n",
    "y=list(map(float,input(\"enter y values:\").split()))\n",
    "x={}\n",
    "for i in range(p):\n",
    "    x[i]=(list(map(float,input(\"enter x{} values:\".format(i+1)).split())))\n",
    "cl=list(map(float,input('enter values to be classified:').split()))"
   ]
  },
  {
   "cell_type": "code",
   "execution_count": 54,
   "id": "2c175385",
   "metadata": {},
   "outputs": [],
   "source": [
    "x=np.array(pd.DataFrame(x))\n",
    "muew=[sum(x)/n]\n",
    "x1=[]\n",
    "x2=[]"
   ]
  },
  {
   "cell_type": "code",
   "execution_count": 55,
   "id": "f2b320ef",
   "metadata": {},
   "outputs": [],
   "source": [
    "for i in range(n):\n",
    "    if y[i]==1:\n",
    "        x1.append(x[i])\n",
    "    else:\n",
    "        x2.append(x[i])"
   ]
  },
  {
   "cell_type": "code",
   "execution_count": 56,
   "id": "7c314060",
   "metadata": {},
   "outputs": [],
   "source": [
    "muew.append(sum(x1)/len(x1))\n",
    "muew.append(sum(x2)/len(x2))"
   ]
  },
  {
   "cell_type": "code",
   "execution_count": 57,
   "id": "abda5fcd",
   "metadata": {},
   "outputs": [],
   "source": [
    "x_muew=x-muew[0]"
   ]
  },
  {
   "cell_type": "code",
   "execution_count": 58,
   "id": "15695a7d",
   "metadata": {},
   "outputs": [],
   "source": [
    "c=np.dot(x_muew.transpose(),x_muew)/n"
   ]
  },
  {
   "cell_type": "code",
   "execution_count": 59,
   "id": "f8360e0c",
   "metadata": {},
   "outputs": [],
   "source": [
    "c_inv=np.linalg.inv(c)\n",
    "res=[]\n",
    "length=[len(x1),len(x2)]"
   ]
  },
  {
   "cell_type": "code",
   "execution_count": 60,
   "id": "32a2a121",
   "metadata": {},
   "outputs": [],
   "source": [
    "for i in range(1,p+1):\n",
    "    res.append(np.dot(np.dot(muew[i],c_inv),cl)-((np.dot(np.dot(muew[i],c_inv),muew[i].transpose()))/2)+(m.log(length[i-1]/len(x))))"
   ]
  },
  {
   "cell_type": "code",
   "execution_count": 61,
   "id": "e7c72d3d",
   "metadata": {},
   "outputs": [
    {
     "name": "stdout",
     "output_type": "stream",
     "text": [
      "given observation [2.0, 7.0] classified into 1 th group\n"
     ]
    }
   ],
   "source": [
    "print('given observation',cl,'classified into',(res.index(max(res))+1),'th group')"
   ]
  }
 ],
 "metadata": {
  "kernelspec": {
   "display_name": "Python 3 (ipykernel)",
   "language": "python",
   "name": "python3"
  },
  "language_info": {
   "codemirror_mode": {
    "name": "ipython",
    "version": 3
   },
   "file_extension": ".py",
   "mimetype": "text/x-python",
   "name": "python",
   "nbconvert_exporter": "python",
   "pygments_lexer": "ipython3",
   "version": "3.9.7"
  },
  "vscode": {
   "interpreter": {
    "hash": "b57b11fd2199e3df3cf9969cbc290a71443d571a5987003f5cfdb381fe30abb5"
   }
  }
 },
 "nbformat": 4,
 "nbformat_minor": 5
}
