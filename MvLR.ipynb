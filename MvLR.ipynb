{
 "cells": [
  {
   "cell_type": "markdown",
   "id": "74a92c05",
   "metadata": {},
   "source": [
    "# MvLR"
   ]
  },
  {
   "cell_type": "code",
   "execution_count": null,
   "id": "71d55f74",
   "metadata": {},
   "outputs": [],
   "source": [
    "import math as m \n",
    "import scipy.stats as s\n",
    "import pandas as pd\n",
    "import numpy as np"
   ]
  },
  {
   "cell_type": "code",
   "execution_count": 6,
   "id": "96e79c6b",
   "metadata": {},
   "outputs": [
    {
     "name": "stdout",
     "output_type": "stream",
     "text": [
      "enter number of observations:12\n",
      "enter number of independent variables:3\n",
      "enter number of dependent variables:2\n",
      "enter x1 values:9 8 7 14 12 10 7 4 6 5 7 6\n",
      "enter x2 values:62 58 64 60 63 57 55 56 59 61 57 60\n",
      "enter x3 values:1 1.3 1.2 0.8 0.8 0.9 1 1.2 1.1 1 1.2 1.2\n",
      "enter y1 values:10 12 11 9 9 10 11 12 11 10 11 12\n",
      "enter y2 values: 100 110 105 94 95 99 104 108 105 98 103 110\n"
     ]
    }
   ],
   "source": [
    "n=int(input(\"enter number of observations:\"))\n",
    "p=int(input(\"enter number of independent variables:\"))\n",
    "q=int(input(\"enter number of dependent variables:\"))\n",
    "yinp={}\n",
    "x={}\n",
    "x[0] = [1 for i in range(n)]\n",
    "for i in range(1,p+1):\n",
    "    x[i]=(list(map(float,input(\"enter x{} values:\".format(i)).split())))\n",
    "for i in range(1,q+1):\n",
    "    yinp[i]=list(map(float,input(\"enter y{} values:\".format(i)).split()))\n",
    "p+=1"
   ]
  },
  {
   "cell_type": "code",
   "execution_count": 14,
   "id": "b338b619",
   "metadata": {},
   "outputs": [],
   "source": [
    "x=np.array(pd.DataFrame(x))\n",
    "yin=np.array(pd.DataFrame(yinp))\n",
    "beta=np.dot((np.linalg.inv(np.dot(x.transpose(),x))),(np.dot(x.transpose(),yin)))"
   ]
  },
  {
   "cell_type": "code",
   "execution_count": 23,
   "id": "637718c1",
   "metadata": {},
   "outputs": [
    {
     "data": {
      "text/plain": [
       "array([[ 1.08969952e+01,  9.10971989e+01],\n",
       "       [-4.49402884e-02, -6.40072328e-02],\n",
       "       [-8.77035871e-02, -2.94373672e-01],\n",
       "       [ 5.03545972e+00,  2.78353035e+01]])"
      ]
     },
     "execution_count": 23,
     "metadata": {},
     "output_type": "execute_result"
    }
   ],
   "source": [
    "beta"
   ]
  },
  {
   "cell_type": "code",
   "execution_count": 27,
   "id": "0b596dd8",
   "metadata": {},
   "outputs": [
    {
     "name": "stdout",
     "output_type": "stream",
     "text": [
      "y=10.897+(-0.0449)x1+(-0.0877)x2+(5.0355)x3\n",
      "y=91.0972+(-0.064)x1+(-0.2944)x2+(27.8353)x3\n"
     ]
    }
   ],
   "source": [
    "y={}\n",
    "for j in range(q):\n",
    "    y[j]=str(round(beta[0][j],4))+\"+(\"+str(round(beta[1][j],4))+\")x1+(\"+str(round(beta[2][j],4))+\")x2+(\"+str(round(beta[3][j],4))+\")x3\"\n",
    "for j in range(q):\n",
    "    print(\"y=\"+y[j])"
   ]
  }
 ],
 "metadata": {
  "kernelspec": {
   "display_name": "Python 3 (ipykernel)",
   "language": "python",
   "name": "python3"
  },
  "language_info": {
   "codemirror_mode": {
    "name": "ipython",
    "version": 3
   },
   "file_extension": ".py",
   "mimetype": "text/x-python",
   "name": "python",
   "nbconvert_exporter": "python",
   "pygments_lexer": "ipython3",
   "version": "3.9.12"
  },
  "vscode": {
   "interpreter": {
    "hash": "b57b11fd2199e3df3cf9969cbc290a71443d571a5987003f5cfdb381fe30abb5"
   }
  }
 },
 "nbformat": 4,
 "nbformat_minor": 5
}
